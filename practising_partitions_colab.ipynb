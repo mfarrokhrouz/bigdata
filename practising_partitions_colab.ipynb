{
  "cells": [
    {
      "cell_type": "markdown",
      "metadata": {
        "id": "view-in-github",
        "colab_type": "text"
      },
      "source": [
        "<a href=\"https://colab.research.google.com/github/mfarrokhrouz/bigdata/blob/main/practising_partitions_colab.ipynb\" target=\"_parent\"><img src=\"https://colab.research.google.com/assets/colab-badge.svg\" alt=\"Open In Colab\"/></a>"
      ]
    },
    {
      "cell_type": "code",
      "execution_count": 1,
      "metadata": {
        "id": "w1m9uEbLTfhq",
        "colab": {
          "base_uri": "https://localhost:8080/"
        },
        "outputId": "67430f17-6f61-4892-ebf1-a433774a4d51"
      },
      "outputs": [
        {
          "output_type": "stream",
          "name": "stdout",
          "text": [
            "\r0% [Working]\r            \rGet:1 https://cloud.r-project.org/bin/linux/ubuntu focal-cran40/ InRelease [3,622 B]\n",
            "\r0% [Connecting to archive.ubuntu.com (185.125.190.36)] [Connecting to security.\r0% [Connecting to archive.ubuntu.com (185.125.190.36)] [Connecting to security.\r                                                                               \rHit:2 https://developer.download.nvidia.com/compute/cuda/repos/ubuntu2004/x86_64  InRelease\n",
            "Hit:3 http://archive.ubuntu.com/ubuntu focal InRelease\n",
            "Get:4 http://ppa.launchpad.net/c2d4u.team/c2d4u4.0+/ubuntu focal InRelease [18.1 kB]\n",
            "Get:5 http://archive.ubuntu.com/ubuntu focal-updates InRelease [114 kB]\n",
            "Get:6 http://security.ubuntu.com/ubuntu focal-security InRelease [114 kB]\n",
            "Hit:7 http://ppa.launchpad.net/cran/libgit2/ubuntu focal InRelease\n",
            "Get:8 http://archive.ubuntu.com/ubuntu focal-backports InRelease [108 kB]\n",
            "Hit:9 http://ppa.launchpad.net/deadsnakes/ppa/ubuntu focal InRelease\n",
            "Get:10 http://ppa.launchpad.net/graphics-drivers/ppa/ubuntu focal InRelease [24.3 kB]\n",
            "Hit:11 http://ppa.launchpad.net/ubuntugis/ppa/ubuntu focal InRelease\n",
            "Get:12 http://ppa.launchpad.net/c2d4u.team/c2d4u4.0+/ubuntu focal/main Sources [2,578 kB]\n",
            "Get:13 http://archive.ubuntu.com/ubuntu focal-updates/restricted amd64 Packages [2,366 kB]\n",
            "Get:14 http://ppa.launchpad.net/c2d4u.team/c2d4u4.0+/ubuntu focal/main amd64 Packages [1,216 kB]\n",
            "Get:15 http://ppa.launchpad.net/graphics-drivers/ppa/ubuntu focal/main amd64 Packages [46.8 kB]\n",
            "Get:16 http://security.ubuntu.com/ubuntu focal-security/restricted amd64 Packages [2,228 kB]\n",
            "Get:17 http://archive.ubuntu.com/ubuntu focal-updates/main amd64 Packages [3,169 kB]\n",
            "Get:18 http://archive.ubuntu.com/ubuntu focal-updates/universe amd64 Packages [1,343 kB]\n",
            "Get:19 http://security.ubuntu.com/ubuntu focal-security/main amd64 Packages [2,692 kB]\n",
            "Get:20 http://security.ubuntu.com/ubuntu focal-security/universe amd64 Packages [1,047 kB]\n",
            "Fetched 17.1 MB in 14s (1,195 kB/s)\n",
            "Reading package lists... Done\n"
          ]
        }
      ],
      "source": [
        "import os\n",
        "# Find the latest version of spark 3.x  from http://www.apache.org/dist/spark/ and enter as the spark version\n",
        "# For example:\n",
        "# spark_version = 'spark-3.3.1'\n",
        "spark_version = 'spark-3.3.2'\n",
        "os.environ['SPARK_VERSION']=spark_version\n",
        "\n",
        "# Install Spark and Java\n",
        "!apt-get update\n",
        "!apt-get install openjdk-11-jdk-headless -qq > /dev/null\n",
        "!wget -q http://www.apache.org/dist/spark/$SPARK_VERSION/$SPARK_VERSION-bin-hadoop3.tgz\n",
        "!tar xf $SPARK_VERSION-bin-hadoop3.tgz\n",
        "!pip install -q findspark\n",
        "\n",
        "# Set Environment Variables\n",
        "os.environ[\"JAVA_HOME\"] = \"/usr/lib/jvm/java-11-openjdk-amd64\"\n",
        "os.environ[\"SPARK_HOME\"] = f\"/content/{spark_version}-bin-hadoop3\"\n",
        "\n",
        "# Start a SparkSession\n",
        "import findspark\n",
        "findspark.init()"
      ]
    },
    {
      "cell_type": "code",
      "execution_count": 2,
      "metadata": {
        "id": "wdpzXrYLTgcq"
      },
      "outputs": [],
      "source": [
        "# Import packages\n",
        "from pyspark.sql import SparkSession\n",
        "import time\n",
        "\n",
        "# Create a SparkSession\n",
        "spark = SparkSession.builder\\\n",
        "    .appName(\"SparkSQL\")\\\n",
        "    .config(\"spark.sql.debug.maxToStringFields\", 2000)\\\n",
        "    .config(\"spark.driver.memory\", \"2g\")\\\n",
        "    .getOrCreate()"
      ]
    },
    {
      "cell_type": "code",
      "execution_count": 3,
      "metadata": {
        "colab": {
          "base_uri": "https://localhost:8080/"
        },
        "id": "SyGdKF4mTguN",
        "outputId": "5fd92069-74d8-4eaa-a86c-03722be344f8"
      },
      "outputs": [
        {
          "output_type": "stream",
          "name": "stdout",
          "text": [
            "+---+----+-----+----------+---------+-------+----------+-------+----------+-------------+---------+-------+-----------------+--------------+-------+--------+--------+------+----+--------+------+-------+---------+----------------+--------+------------+------------+--------+-------------+-----------------+\n",
            "| id|Year|Month|DayofMonth|DayOfWeek|DepTime|CRSDepTime|ArrTime|CRSArrTime|UniqueCarrier|FlightNum|TailNum|ActualElapsedTime|CRSElapsedTime|AirTime|ArrDelay|DepDelay|Origin|Dest|Distance|TaxiIn|TaxiOut|Cancelled|CancellationCode|Diverted|CarrierDelay|WeatherDelay|NASDelay|SecurityDelay|LateAircraftDelay|\n",
            "+---+----+-----+----------+---------+-------+----------+-------+----------+-------------+---------+-------+-----------------+--------------+-------+--------+--------+------+----+--------+------+-------+---------+----------------+--------+------------+------------+--------+-------------+-----------------+\n",
            "|  0|2008|    1|         3|        4|   2003|      1955|   2211|      2225|           WN|      335| N712SW|              128|           150|    116|     -14|       8|   IAD| TPA|     810|     4|      8|        0|               N|       0|        null|        null|    null|         null|             null|\n",
            "|  1|2008|    1|         3|        4|    754|       735|   1002|      1000|           WN|     3231| N772SW|              128|           145|    113|       2|      19|   IAD| TPA|     810|     5|     10|        0|               N|       0|        null|        null|    null|         null|             null|\n",
            "|  2|2008|    1|         3|        4|    628|       620|    804|       750|           WN|      448| N428WN|               96|            90|     76|      14|       8|   IND| BWI|     515|     3|     17|        0|               N|       0|        null|        null|    null|         null|             null|\n",
            "|  4|2008|    1|         3|        4|   1829|      1755|   1959|      1925|           WN|     3920| N464WN|               90|            90|     77|      34|      34|   IND| BWI|     515|     3|     10|        0|               N|       0|           2|           0|       0|            0|               32|\n",
            "|  5|2008|    1|         3|        4|   1940|      1915|   2121|      2110|           WN|      378| N726SW|              101|           115|     87|      11|      25|   IND| JAX|     688|     4|     10|        0|               N|       0|        null|        null|    null|         null|             null|\n",
            "|  6|2008|    1|         3|        4|   1937|      1830|   2037|      1940|           WN|      509| N763SW|              240|           250|    230|      57|      67|   IND| LAS|    1591|     3|      7|        0|               N|       0|          10|           0|       0|            0|               47|\n",
            "| 10|2008|    1|         3|        4|    706|       700|    916|       915|           WN|      100| N690SW|              130|           135|    106|       1|       6|   IND| MCO|     828|     5|     19|        0|               N|       0|        null|        null|    null|         null|             null|\n",
            "| 11|2008|    1|         3|        4|   1644|      1510|   1845|      1725|           WN|     1333| N334SW|              121|           135|    107|      80|      94|   IND| MCO|     828|     6|      8|        0|               N|       0|           8|           0|       0|            0|               72|\n",
            "| 15|2008|    1|         3|        4|   1029|      1020|   1021|      1010|           WN|     2272| N263WN|               52|            50|     37|      11|       9|   IND| MDW|     162|     6|      9|        0|               N|       0|        null|        null|    null|         null|             null|\n",
            "| 16|2008|    1|         3|        4|   1452|      1425|   1640|      1625|           WN|      675| N286WN|              228|           240|    213|      15|      27|   IND| PHX|    1489|     7|      8|        0|               N|       0|           3|           0|       0|            0|               12|\n",
            "| 17|2008|    1|         3|        4|    754|       745|    940|       955|           WN|     1144| N778SW|              226|           250|    205|     -15|       9|   IND| PHX|    1489|     5|     16|        0|               N|       0|        null|        null|    null|         null|             null|\n",
            "| 18|2008|    1|         3|        4|   1323|      1255|   1526|      1510|           WN|        4| N674AA|              123|           135|    110|      16|      28|   IND| TPA|     838|     4|      9|        0|               N|       0|           0|           0|       0|            0|               16|\n",
            "| 19|2008|    1|         3|        4|   1416|      1325|   1512|      1435|           WN|       54| N643SW|               56|            70|     49|      37|      51|   ISP| BWI|     220|     2|      5|        0|               N|       0|          12|           0|       0|            0|               25|\n",
            "| 21|2008|    1|         3|        4|   1657|      1625|   1754|      1735|           WN|      623| N724SW|               57|            70|     47|      19|      32|   ISP| BWI|     220|     5|      5|        0|               N|       0|           7|           0|       0|            0|               12|\n",
            "| 22|2008|    1|         3|        4|   1900|      1840|   1956|      1950|           WN|      717| N786SW|               56|            70|     49|       6|      20|   ISP| BWI|     220|     2|      5|        0|               N|       0|        null|        null|    null|         null|             null|\n",
            "| 23|2008|    1|         3|        4|   1039|      1030|   1133|      1140|           WN|     1244| N714CB|               54|            70|     47|      -7|       9|   ISP| BWI|     220|     2|      5|        0|               N|       0|        null|        null|    null|         null|             null|\n",
            "| 25|2008|    1|         3|        4|   1520|      1455|   1619|      1605|           WN|     2553| N394SW|               59|            70|     50|      14|      25|   ISP| BWI|     220|     2|      7|        0|               N|       0|        null|        null|    null|         null|             null|\n",
            "| 26|2008|    1|         3|        4|   1422|      1255|   1657|      1610|           WN|      188| N215WN|              155|           195|    143|      47|      87|   ISP| FLL|    1093|     6|      6|        0|               N|       0|          40|           0|       0|            0|                7|\n",
            "| 27|2008|    1|         3|        4|   1954|      1925|   2239|      2235|           WN|     1754| N243WN|              165|           190|    155|       4|      29|   ISP| FLL|    1093|     3|      7|        0|               N|       0|        null|        null|    null|         null|             null|\n",
            "| 30|2008|    1|         3|        4|   2107|      1945|   2334|      2230|           WN|      362| N798SW|              147|           165|    134|      64|      82|   ISP| MCO|     972|     6|      7|        0|               N|       0|           5|           0|       0|            0|               59|\n",
            "+---+----+-----+----------+---------+-------+----------+-------+----------+-------------+---------+-------+-----------------+--------------+-------+--------+--------+------+----+--------+------+-------+---------+----------------+--------+------------+------------+--------+-------------+-----------------+\n",
            "only showing top 20 rows\n",
            "\n"
          ]
        }
      ],
      "source": [
        "# Read in data from S3 Bucket\n",
        "from pyspark import SparkFiles\n",
        "url = \"https://2u-data-curriculum-team.s3.amazonaws.com/dataviz-classroom/v1.2/22-big-data/3/DelayedFlights.csv\"\n",
        "spark.sparkContext.addFile(url)\n",
        "df = spark.read.csv(SparkFiles.get(\"DelayedFlights.csv\"), sep=\",\", header=True)\n",
        "df.show()"
      ]
    },
    {
      "cell_type": "code",
      "execution_count": 8,
      "metadata": {
        "colab": {
          "base_uri": "https://localhost:8080/"
        },
        "id": "daHsHUbSTzaj",
        "outputId": "0c6f0fc0-81ce-4246-937c-4b0b3721c1b3"
      },
      "outputs": [
        {
          "output_type": "stream",
          "name": "stdout",
          "text": [
            "+------+----+-------------+-------------+\n",
            "|Origin|Dest|sum(Distance)|count(Origin)|\n",
            "+------+----+-------------+-------------+\n",
            "|   LAS| LIT|      72520.0|           56|\n",
            "|   PHL| MCO|     986706.0|         1146|\n",
            "|   SMF| BUR|     178284.0|          498|\n",
            "|   SNA| PHX|     218010.0|          645|\n",
            "|   MCI| IAH|     156249.0|          243|\n",
            "|   BFL| SAN|       4515.0|           21|\n",
            "|   ROC| CLE|      39935.0|          163|\n",
            "|   SPI| ORD|      34104.0|          196|\n",
            "|   ATL| GSP|      54621.0|          357|\n",
            "|   SFO| PMD|      26860.0|           85|\n",
            "|   LAX| OXR|       6958.0|          142|\n",
            "|   ORD| PDX|     909497.0|          523|\n",
            "|   PBI| DCA|      99412.0|          116|\n",
            "|   FSD| ATL|      56286.0|           59|\n",
            "|   MLI| MCO|      25900.0|           25|\n",
            "|   MSP| AVL|      24969.0|           29|\n",
            "|   BQN| MCO|      48547.0|           43|\n",
            "|   EWR| STT|      73530.0|           45|\n",
            "|   CLE| SJU|       1839.0|            1|\n",
            "|   MCI| MKE|        436.0|            1|\n",
            "+------+----+-------------+-------------+\n",
            "only showing top 20 rows\n",
            "\n",
            "--- 5.534931659698486 seconds ---\n"
          ]
        }
      ],
      "source": [
        "# Create temp view named \"delays\"\n",
        "df.createOrReplaceTempView('delays')\n",
        "\n",
        "# Start the runtime\n",
        "start_time = time.time()\n",
        "\n",
        "# Using spark.sql write a query that gives you the total distance \n",
        "# and the count of every unique Origin, Dest combination.\n",
        "spark.sql(\"\"\"select Origin,Dest,sum(Distance),count(Origin) from delays group by Origin,Dest\"\"\").show()\n",
        "\n",
        "\n",
        "# Print out the runtime.\n",
        "print(\"--- %s seconds ---\" % (time.time() - start_time))"
      ]
    },
    {
      "cell_type": "code",
      "execution_count": 9,
      "metadata": {
        "id": "EVQQPzgiUgTg"
      },
      "outputs": [],
      "source": [
        "# Write out the data in parquet format\n",
        "df.write.parquet('parquet_delayed', mode='overwrite')"
      ]
    },
    {
      "cell_type": "code",
      "execution_count": 10,
      "metadata": {
        "id": "1fjWZBkMUuIQ"
      },
      "outputs": [],
      "source": [
        "# Read in our new parquet formatted data\n",
        "p_df=spark.read.parquet('parquet_delayed')"
      ]
    },
    {
      "cell_type": "code",
      "execution_count": 11,
      "metadata": {
        "id": "O9Vj-1tAVMxZ"
      },
      "outputs": [],
      "source": [
        "# Convert the DataFrame to a view.\n",
        "p_df.createOrReplaceTempView('p_delays')"
      ]
    },
    {
      "cell_type": "code",
      "execution_count": 12,
      "metadata": {
        "colab": {
          "base_uri": "https://localhost:8080/"
        },
        "id": "W1upPNu4VFnm",
        "outputId": "90aad2cd-dc7a-4518-ba21-6b580755db6d"
      },
      "outputs": [
        {
          "output_type": "stream",
          "name": "stdout",
          "text": [
            "+------+----+-------------+-------------+\n",
            "|Origin|Dest|sum(Distance)|count(Origin)|\n",
            "+------+----+-------------+-------------+\n",
            "|   LAS| LIT|      72520.0|           56|\n",
            "|   PHL| MCO|     986706.0|         1146|\n",
            "|   SMF| BUR|     178284.0|          498|\n",
            "|   SNA| PHX|     218010.0|          645|\n",
            "|   MCI| IAH|     156249.0|          243|\n",
            "|   BFL| SAN|       4515.0|           21|\n",
            "|   ROC| CLE|      39935.0|          163|\n",
            "|   SPI| ORD|      34104.0|          196|\n",
            "|   ATL| GSP|      54621.0|          357|\n",
            "|   SFO| PMD|      26860.0|           85|\n",
            "|   LAX| OXR|       6958.0|          142|\n",
            "|   ORD| PDX|     909497.0|          523|\n",
            "|   PBI| DCA|      99412.0|          116|\n",
            "|   FSD| ATL|      56286.0|           59|\n",
            "|   MLI| MCO|      25900.0|           25|\n",
            "|   MSP| AVL|      24969.0|           29|\n",
            "|   BQN| MCO|      48547.0|           43|\n",
            "|   EWR| STT|      73530.0|           45|\n",
            "|   CLE| SJU|       1839.0|            1|\n",
            "|   MCI| MKE|        436.0|            1|\n",
            "+------+----+-------------+-------------+\n",
            "only showing top 20 rows\n",
            "\n",
            "--- 2.63655686378479 seconds ---\n"
          ]
        }
      ],
      "source": [
        "# Start the runtime\n",
        "start_time = time.time()\n",
        "\n",
        "# Run the same query here\n",
        "spark.sql(\"\"\"select Origin,Dest,sum(Distance),count(Origin) from p_delays group by Origin,Dest\"\"\").show()\n",
        "\n",
        "\n",
        "# Print out the runtime\n",
        "print(\"--- %s seconds ---\" % (time.time() - start_time))"
      ]
    },
    {
      "cell_type": "code",
      "execution_count": 14,
      "metadata": {
        "id": "RxtycEtOVQrZ"
      },
      "outputs": [],
      "source": [
        "# Write out your parquet data, partitioning on the Origin column\n",
        "df.write.partitionBy(\"UniqueCarrier\").mode(\"overwrite\").parquet(\"delayed_partitioned\")"
      ]
    },
    {
      "cell_type": "code",
      "execution_count": 15,
      "metadata": {
        "id": "TMpsNLamXM9N"
      },
      "outputs": [],
      "source": [
        "# Read in our new parquet formatted data\n",
        "p_df_p=spark.read.parquet('delayed_partitioned')"
      ]
    },
    {
      "cell_type": "code",
      "execution_count": 16,
      "metadata": {
        "id": "KX3wglAtWEbI"
      },
      "outputs": [],
      "source": [
        "# Convert the dataframe to a view.\n",
        "p_df_p.createOrReplaceTempView('p_delays_p')"
      ]
    },
    {
      "cell_type": "code",
      "execution_count": 18,
      "metadata": {
        "colab": {
          "base_uri": "https://localhost:8080/"
        },
        "id": "LOR5HfhRVzmG",
        "outputId": "2769a519-070e-47d0-f64c-d707f3dcf438"
      },
      "outputs": [
        {
          "output_type": "stream",
          "name": "stdout",
          "text": [
            "+------+-------------+-------------+\n",
            "|Origin|sum(Distance)|count(Origin)|\n",
            "+------+-------------+-------------+\n",
            "|   MSY|    3862683.0|         5979|\n",
            "|   GEG|    1061773.0|         1913|\n",
            "|   SNA|    4862882.0|         6222|\n",
            "|   BUR|    1985928.0|         4081|\n",
            "|   GTF|     101730.0|          154|\n",
            "|   GRB|     236690.0|         1095|\n",
            "|   IDA|     122755.0|          296|\n",
            "|   GRR|     762389.0|         2082|\n",
            "|   EUG|     274636.0|          522|\n",
            "|   PVD|    2055464.0|         3147|\n",
            "|   GSO|     868253.0|         1714|\n",
            "|   MYR|     188781.0|          505|\n",
            "|   OAK|    6514328.0|         9941|\n",
            "|   MSN|     624663.0|         1839|\n",
            "|   FAR|     253367.0|          545|\n",
            "|   COD|      17220.0|           54|\n",
            "|   BTM|       8925.0|           25|\n",
            "|   FSM|      85950.0|          269|\n",
            "|   MQT|      30865.0|          134|\n",
            "|   DCA|    5820315.0|         9151|\n",
            "+------+-------------+-------------+\n",
            "only showing top 20 rows\n",
            "\n",
            "--- 1.627490758895874 seconds ---\n"
          ]
        }
      ],
      "source": [
        "# Start the runtime\n",
        "start_time = time.time()\n",
        "\n",
        "# Run your query against your partitioned data one more time.\n",
        "spark.sql(\"\"\"select Origin,sum(Distance),count(Origin) from p_delays_p group by Origin\"\"\").show()\n",
        "\n",
        "\n",
        "# Print out the runtime\n",
        "print(\"--- %s seconds ---\" % (time.time() - start_time))"
      ]
    },
    {
      "cell_type": "code",
      "execution_count": 20,
      "metadata": {
        "colab": {
          "base_uri": "https://localhost:8080/"
        },
        "id": "w1LbeemvWsRa",
        "outputId": "8a3012f7-12eb-412d-fdaa-3a022625b57c"
      },
      "outputs": [
        {
          "output_type": "stream",
          "name": "stdout",
          "text": [
            "+------+-------+\n",
            "|Origin|TailNum|\n",
            "+------+-------+\n",
            "|   LAS| N678AA|\n",
            "|   LAS| N429WN|\n",
            "|   OAK| N655WN|\n",
            "|   PHX| N709SW|\n",
            "|   PVD| N228WN|\n",
            "|   SLC| N756SA|\n",
            "|   BNA| N228WN|\n",
            "|   BUR| N718SW|\n",
            "|   HOU| N525SW|\n",
            "|   HOU| N438WN|\n",
            "|   LAS| N486WN|\n",
            "|   LAX| N253WN|\n",
            "|   MCO| N710SW|\n",
            "|   ONT| N344SW|\n",
            "|   SEA| N487WN|\n",
            "|   SJC| N368SW|\n",
            "|   ALB| N430WN|\n",
            "|   BDL| N765SW|\n",
            "|   BHM| N324SW|\n",
            "|   BUR| N391SW|\n",
            "+------+-------+\n",
            "only showing top 20 rows\n",
            "\n",
            "--- 2.6046736240386963 seconds ---\n"
          ]
        }
      ],
      "source": [
        "# Start  the runtime\n",
        "start_time = time.time()\n",
        "\n",
        "# Filter the data on something that selects your partition choice.\n",
        "spark.sql(\"\"\"select Origin,TailNum from p_delays_p group by Origin,TailNum\"\"\").show()\n",
        "\n",
        "\n",
        "# Print out the runtime.\n",
        "print(\"--- %s seconds ---\" % (time.time() - start_time))"
      ]
    },
    {
      "cell_type": "code",
      "execution_count": 21,
      "metadata": {
        "colab": {
          "base_uri": "https://localhost:8080/"
        },
        "id": "e3wGOJK3Xrnu",
        "outputId": "1dc47098-73b8-4808-bbd5-000d3f514d01"
      },
      "outputs": [
        {
          "output_type": "stream",
          "name": "stdout",
          "text": [
            "+----+-------+\n",
            "|Dest|TailNum|\n",
            "+----+-------+\n",
            "| SLC| N756SA|\n",
            "| LAS| N678AA|\n",
            "| BUR| N718SW|\n",
            "| DTW| N412WN|\n",
            "| LAS| N429WN|\n",
            "| BUR| N384SW|\n",
            "| ONT| N344SW|\n",
            "| PHL| N699SW|\n",
            "| RDU| N688SW|\n",
            "| DEN| N717SA|\n",
            "| HOU| N438WN|\n",
            "| SJC| N368SW|\n",
            "| LAX| N253WN|\n",
            "| LAS| N486WN|\n",
            "| SEA| N487WN|\n",
            "| LAS| N514SW|\n",
            "| FLL| N310SW|\n",
            "| HOU| N784SW|\n",
            "| BUR| N391SW|\n",
            "| PBI| N771SA|\n",
            "+----+-------+\n",
            "only showing top 20 rows\n",
            "\n",
            "--- 1.4443652629852295 seconds ---\n"
          ]
        }
      ],
      "source": [
        "# Start  the runtime\n",
        "start_time = time.time()\n",
        "\n",
        "# Filter the data on something that has nothing to do with your partition choice.\n",
        "spark.sql(\"\"\"select Dest,TailNum from p_delays group by Dest,TailNum\"\"\").show()\n",
        "\n",
        "\n",
        "# Print out the runtime.\n",
        "print(\"--- %s seconds ---\" % (time.time() - start_time))"
      ]
    },
    {
      "cell_type": "code",
      "execution_count": null,
      "metadata": {
        "id": "TOczG8ekAhjL"
      },
      "outputs": [],
      "source": []
    }
  ],
  "metadata": {
    "colab": {
      "provenance": [],
      "include_colab_link": true
    },
    "kernelspec": {
      "display_name": "Python 3 (ipykernel)",
      "language": "python",
      "name": "python3"
    },
    "language_info": {
      "codemirror_mode": {
        "name": "ipython",
        "version": 3
      },
      "file_extension": ".py",
      "mimetype": "text/x-python",
      "name": "python",
      "nbconvert_exporter": "python",
      "pygments_lexer": "ipython3",
      "version": "3.10.4"
    },
    "vscode": {
      "interpreter": {
        "hash": "aee8b7b246df8f9039afb4144a1f6fd8d2ca17a180786b69acc140d282b71a49"
      }
    }
  },
  "nbformat": 4,
  "nbformat_minor": 0
}